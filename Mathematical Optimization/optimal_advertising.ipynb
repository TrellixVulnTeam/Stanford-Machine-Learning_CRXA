{
 "cells": [
  {
   "cell_type": "code",
   "execution_count": null,
   "metadata": {
    "collapsed": true
   },
   "outputs": [],
   "source": [
    "# Generate data for optimal advertising problem.\n",
    "import numpy as np\n",
    "np.random.seed(1)\n",
    "m = 5\n",
    "n = 24\n",
    "SCALE = 10000\n",
    "B = np.random.lognormal(mean=8, size=(m,1)) + 10000\n",
    "B = 1000*np.round(B/1000)\n",
    "\n",
    "P_ad = np.random.uniform(size=(m,1))\n",
    "P_time = np.random.uniform(size=(1,n))\n",
    "P = P_ad.dot(P_time)\n",
    "\n",
    "T = np.sin(np.linspace(-2*np.pi/2,2*np.pi  -2*np.pi/2,n))*SCALE\n",
    "T += -np.min(T) + SCALE\n",
    "c = np.random.uniform(size=(m,1))\n",
    "c *= 0.6*T.sum()/c.sum()\n",
    "c = 1000*np.round(c/1000)\n",
    "R = np.array([np.random.lognormal(c.min()/c[i]) for i in range(m)])"
   ]
  },
  {
   "cell_type": "code",
   "execution_count": null,
   "metadata": {},
   "outputs": [],
   "source": [
    "# Form and solve the optimal advertising problem.\n",
    "from cvxpy import *\n",
    "D = Variable(m,n)\n",
    "Si = [min_elemwise(R[i]*P[i,:]*D[i,:].T, B[i]) for i in range(m)]\n",
    "prob = Problem(Maximize(sum(Si)),\n",
    "               [D >= 0,\n",
    "                D.T*np.ones(m) <= T,\n",
    "                D*np.ones(n) >= c])\n",
    "prob.solve()"
   ]
  },
  {
   "cell_type": "code",
   "execution_count": null,
   "metadata": {},
   "outputs": [],
   "source": [
    "# Plot traffic.\n",
    "import matplotlib.pyplot as plt\n",
    "%matplotlib inline\n",
    "plt.plot(T)\n",
    "plt.xlabel('Hour')\n",
    "plt.ylabel(\"Traffic\")\n",
    "plt.show()"
   ]
  },
  {
   "cell_type": "code",
   "execution_count": null,
   "metadata": {},
   "outputs": [],
   "source": [
    "# Plot P.\n",
    "column_labels = range(0,24)\n",
    "row_labels = list('ABCDE')\n",
    "fig, ax = plt.subplots()\n",
    "data = D.value.A\n",
    "heatmap = ax.pcolor(P, cmap=plt.cm.Blues)\n",
    "\n",
    "# put the major ticks at the middle of each cell\n",
    "ax.set_xticks(np.arange(P.shape[1])+0.5, minor=False)\n",
    "ax.set_yticks(np.arange(P.shape[0])+0.5, minor=False)\n",
    "\n",
    "# want a more natural, table-like display\n",
    "ax.invert_yaxis()\n",
    "ax.xaxis.tick_top()\n",
    "\n",
    "ax.set_xticklabels(column_labels, minor=False)\n",
    "ax.set_yticklabels(row_labels, minor=False)\n",
    "plt.show()"
   ]
  },
  {
   "cell_type": "code",
   "execution_count": null,
   "metadata": {},
   "outputs": [],
   "source": [
    "# Plot optimal D.\n",
    "import matplotlib.pyplot as plt\n",
    "%matplotlib inline\n",
    "column_labels = range(0,24)\n",
    "row_labels = list('ABCDE')\n",
    "fig, ax = plt.subplots()\n",
    "data = D.value.A\n",
    "heatmap = ax.pcolor(data, cmap=plt.cm.Blues)\n",
    "\n",
    "# put the major ticks at the middle of each cell\n",
    "ax.set_xticks(np.arange(data.shape[1])+0.5, minor=False)\n",
    "ax.set_yticks(np.arange(data.shape[0])+0.5, minor=False)\n",
    "\n",
    "# want a more natural, table-like display\n",
    "ax.invert_yaxis()\n",
    "ax.xaxis.tick_top()\n",
    "\n",
    "ax.set_xticklabels(column_labels, minor=False)\n",
    "ax.set_yticklabels(row_labels, minor=False)\n",
    "plt.savefig('ad_opt')\n",
    "plt.show()"
   ]
  }
 ],
 "metadata": {
  "kernelspec": {
   "display_name": "Python 3",
   "language": "python",
   "name": "python3"
  },
  "language_info": {
   "codemirror_mode": {
    "name": "ipython",
    "version": 3
   },
   "file_extension": ".py",
   "mimetype": "text/x-python",
   "name": "python",
   "nbconvert_exporter": "python",
   "pygments_lexer": "ipython3",
   "version": "3.6.2"
  }
 },
 "nbformat": 4,
 "nbformat_minor": 1
}
