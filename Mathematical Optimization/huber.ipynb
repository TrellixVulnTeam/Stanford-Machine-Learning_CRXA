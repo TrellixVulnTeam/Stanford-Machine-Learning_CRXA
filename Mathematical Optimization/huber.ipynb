{
 "cells": [
  {
   "cell_type": "markdown",
   "metadata": {},
   "source": [
    "# Huber loss\n",
    "- huber function allows us to better handle these outliers\n",
    "- defined as\n",
    "$$\n",
    "h_M(x) = \\begin{cases}x^2 &|x| \\leq M \\\\2M|x| - M^2&|x| >M\\end{cases}\n",
    "$$\n",
    "- usual quadratic loss in interval $[-M, M]$\n",
    "- linear loss for $|x| > M$\n",
    "- linear penalty for large errors is much less severe than quadratic\n",
    "- large errors are better 'tolerated', have less influence on fit"
   ]
  },
  {
   "cell_type": "code",
   "execution_count": null,
   "metadata": {
    "collapsed": true
   },
   "outputs": [],
   "source": [
    "import matplotlib.pyplot as plt\n",
    "import numpy as np\n",
    "from cvxpy import *\n",
    "\n",
    "%matplotlib inline\n",
    "%config InlineBackend.figure_format = 'svg'\n",
    "\n",
    "def diff(n, k=1):\n",
    "    \"\"\" Construct kth order difference matrix with shape (n-k, n) \n",
    "    \"\"\"\n",
    "    D = np.diag(-1*np.ones(n)) + np.diag(np.ones(n-1),1)\n",
    "    D = D[:-1,:]\n",
    "    if k > 1:\n",
    "        return diff(n-1,k-1).dot(D)\n",
    "    else:\n",
    "        return D"
   ]
  },
  {
   "cell_type": "code",
   "execution_count": null,
   "metadata": {},
   "outputs": [],
   "source": [
    "x = np.arange(-4,4,.1)\n",
    "y = huber(x).value\n",
    "z = x**2\n",
    "plt.plot(x,z, linewidth=3,label='$x^2$')\n",
    "plt.legend()"
   ]
  },
  {
   "cell_type": "code",
   "execution_count": null,
   "metadata": {},
   "outputs": [],
   "source": [
    "plt.plot(x,y, linewidth=3,label='huber function $h_M(x)$')\n",
    "plt.plot(x,z, linewidth=3,label='$x^2$')\n",
    "plt.legend()"
   ]
  },
  {
   "cell_type": "markdown",
   "metadata": {},
   "source": [
    "# Huber example\n",
    "- same curve fitting example as before, except data contains some extreme outliers\n",
    "- penalize closeness to data with huber function $h_M$ to reduce influence of outliers in fit\n",
    "- solve\n",
    "$$\n",
    "\\begin{array}{ll}\n",
    "\\mbox{minimize} & \\sum_{i=1}^n h_M(x_i-y_i) + \\rho \\|Dx\\|_2^2\n",
    "\\end{array}\n",
    "$$\n",
    "- $M$ parameter controls width of quadratic region, or \"non-outlier\" errors"
   ]
  },
  {
   "cell_type": "code",
   "execution_count": null,
   "metadata": {},
   "outputs": [],
   "source": [
    "np.random.seed(1000)\n",
    "n = 200\n",
    "percent_noise = .10 # percentage of points which have high noise (outliers)\n",
    "noise1 = .1 # regular noise\n",
    "noise2 = 2 # outlier noise\n",
    "\n",
    "\n",
    "t = np.linspace(0, 4*np.pi, n)\n",
    "y = np.sin(t)\n",
    "\n",
    "# select which observations will be outliers\n",
    "s = int(n*percent_noise)\n",
    "p = np.random.permutation(n)\n",
    "noise = np.zeros(n)\n",
    "\n",
    "# high noise\n",
    "noise[p[:s]] += noise2*np.random.randn(s)\n",
    "# low noise\n",
    "noise[p[s:]] += noise1*np.random.randn(n-s)\n",
    "\n",
    "y += noise\n",
    "\n",
    "plt.plot(y,'o')"
   ]
  },
  {
   "cell_type": "code",
   "execution_count": null,
   "metadata": {},
   "outputs": [],
   "source": [
    "# get second-order difference matrix\n",
    "D = diff(n, 2)\n",
    "rho = 20\n",
    "\n",
    "# sole least-squares smoothing using cvxpy\n",
    "x = Variable(n)\n",
    "obj = sum_squares(x-y) + rho*sum_squares(D*x)\n",
    "Problem(Minimize(obj)).solve()\n",
    "x = np.array(x.value).flatten()\n",
    "\n",
    "plt.plot(y,'o', alpha=.5)\n",
    "plt.plot(x,'r-', linewidth=2)"
   ]
  },
  {
   "cell_type": "code",
   "execution_count": null,
   "metadata": {},
   "outputs": [],
   "source": [
    "# get second-order difference matrix\n",
    "D = diff(n, 2)\n",
    "rho = 20\n",
    "M = .15 # huber radius\n",
    "\n",
    "# sole least-squares smoothing using huber loss\n",
    "x = Variable(n)\n",
    "obj = sum_entries(huber(x-y, M)) + rho*sum_squares(D*x)\n",
    "Problem(Minimize(obj)).solve()\n",
    "x = np.array(x.value).flatten()\n",
    "\n",
    "plt.plot(y,'o', alpha=.5)\n",
    "plt.plot(x,'r-', linewidth=2)"
   ]
  }
 ],
 "metadata": {
  "kernelspec": {
   "display_name": "Python 3",
   "language": "python",
   "name": "python3"
  },
  "language_info": {
   "codemirror_mode": {
    "name": "ipython",
    "version": 3
   },
   "file_extension": ".py",
   "mimetype": "text/x-python",
   "name": "python",
   "nbconvert_exporter": "python",
   "pygments_lexer": "ipython3",
   "version": "3.6.2"
  }
 },
 "nbformat": 4,
 "nbformat_minor": 1
}
