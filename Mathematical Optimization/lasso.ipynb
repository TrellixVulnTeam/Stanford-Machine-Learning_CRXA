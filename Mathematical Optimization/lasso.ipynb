{
 "cells": [
  {
   "cell_type": "markdown",
   "metadata": {},
   "source": [
    "# LASSO for sparse recovery\n",
    "\n",
    "$$\n",
    "\\begin{array}{ll}\n",
    "\\mbox{minimize} & \\| Ax - b\\|_2^2 + \\rho \\|x\\|_1\n",
    "\\end{array}\n",
    "$$\n",
    "\n",
    "- generate problem data:"
   ]
  },
  {
   "cell_type": "code",
   "execution_count": null,
   "metadata": {
    "collapsed": true
   },
   "outputs": [],
   "source": [
    "%matplotlib inline\n",
    "import matplotlib.pyplot as plt\n",
    "import numpy as np\n",
    "from cvxpy import *"
   ]
  },
  {
   "cell_type": "code",
   "execution_count": null,
   "metadata": {},
   "outputs": [],
   "source": [
    "n = 100\n",
    "nonzeros = 5\n",
    "obs = 30\n",
    "\n",
    "x_true = np.zeros(n)\n",
    "x_true[:nonzeros] = np.random.rand(nonzeros)+1\n",
    "np.random.shuffle(x_true)\n",
    "\n",
    "A = np.random.randn(obs,n)\n",
    "b = A.dot(x_true) + np.random.rand(obs)*.1\n",
    "\n",
    "plt.stem(x_true)"
   ]
  },
  {
   "cell_type": "markdown",
   "metadata": {},
   "source": [
    "- inspect the least squares recovery:"
   ]
  },
  {
   "cell_type": "code",
   "execution_count": null,
   "metadata": {},
   "outputs": [],
   "source": [
    "x = Variable(n)\n",
    "obj = sum_squares(A*x - b)\n",
    "Problem(Minimize(obj)).solve()\n",
    "\n",
    "\n",
    "x = np.array(x.value).flatten()\n",
    "\n",
    "\n",
    "fig = plt.figure()\n",
    "ax = fig.add_subplot(111)\n",
    "ax.stem(x)"
   ]
  },
  {
   "cell_type": "markdown",
   "metadata": {},
   "source": [
    "- inspect the LASSO recovery, and note that it accurately recovers the correct signal"
   ]
  },
  {
   "cell_type": "code",
   "execution_count": null,
   "metadata": {},
   "outputs": [],
   "source": [
    "x = Variable(n)\n",
    "obj = sum_squares(A*x - b) + 1.5*norm(x,1)\n",
    "\n",
    "Problem(Minimize(obj)).solve()\n",
    "x = np.array(x.value).flatten()\n",
    "\n",
    "fig = plt.figure()\n",
    "ax = fig.add_subplot(111)\n",
    "ax.stem(x)"
   ]
  },
  {
   "cell_type": "code",
   "execution_count": null,
   "metadata": {},
   "outputs": [],
   "source": [
    "fig = plt.figure()\n",
    "ax = fig.add_subplot(111)\n",
    "ax.stem(x_true)"
   ]
  }
 ],
 "metadata": {
  "kernelspec": {
   "display_name": "Python 3",
   "language": "python",
   "name": "python3"
  },
  "language_info": {
   "codemirror_mode": {
    "name": "ipython",
    "version": 3
   },
   "file_extension": ".py",
   "mimetype": "text/x-python",
   "name": "python",
   "nbconvert_exporter": "python",
   "pygments_lexer": "ipython3",
   "version": "3.6.2"
  }
 },
 "nbformat": 4,
 "nbformat_minor": 1
}
