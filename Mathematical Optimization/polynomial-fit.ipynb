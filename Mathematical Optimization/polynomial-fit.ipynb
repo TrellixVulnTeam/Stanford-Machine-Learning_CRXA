{
 "cells": [
  {
   "cell_type": "markdown",
   "metadata": {},
   "source": [
    "# Linear least-squares regression\n",
    "\n",
    "- This notebook follows course notes `least-squares.pdf`\n",
    "\n",
    "## Polynomial model\n",
    "\n",
    "- We now use a polynomial model to fit the data"
   ]
  },
  {
   "cell_type": "code",
   "execution_count": null,
   "metadata": {
    "collapsed": true,
    "scrolled": true
   },
   "outputs": [],
   "source": [
    "# setup python\n",
    "import numpy as np\n",
    "import matplotlib.pyplot as plt\n",
    "%matplotlib inline\n",
    "%config InlineBackend.figure_format = 'svg'\n",
    "from cvxpy import *"
   ]
  },
  {
   "cell_type": "code",
   "execution_count": null,
   "metadata": {
    "collapsed": true
   },
   "outputs": [],
   "source": [
    "# plot properties\n",
    "# use to create figure for tex\n",
    "plt.rc('text', usetex=True)\n",
    "plt.rc('font', family='serif')\n",
    "font = {'family' : 'normal',\n",
    "        'weight' : 'normal',\n",
    "        'size'   : 16}\n",
    "plt.rc('font', **font)"
   ]
  },
  {
   "cell_type": "code",
   "execution_count": null,
   "metadata": {
    "collapsed": true
   },
   "outputs": [],
   "source": [
    "# create a polynomial from roots\n",
    "p = np.poly1d([1,-6,11,-6])"
   ]
  },
  {
   "cell_type": "code",
   "execution_count": null,
   "metadata": {
    "collapsed": true
   },
   "outputs": [],
   "source": [
    "# generate some data\n",
    "n_points = 20\n",
    "np.random.seed(0)\n",
    "x = np.linspace(.5,3.5,n_points)\n",
    "y = p(x) + .4*np.random.randn(n_points)\n",
    "y_true = p(x)"
   ]
  },
  {
   "cell_type": "code",
   "execution_count": null,
   "metadata": {},
   "outputs": [],
   "source": [
    "# plot data and underlying true function\n",
    "plt.figure()\n",
    "plt.plot(x,y,'o',label='$y(x_i)$')\n",
    "plt.plot(x,y_true,label='$f_\\mathrm{true}(x)$')\n",
    "plt.xlabel('$x$: independent variable')\n",
    "plt.ylabel('$y$: response variable')\n",
    "plt.gcf().subplots_adjust(bottom=0.15,left=0.15)\n",
    "plt.legend()"
   ]
  },
  {
   "cell_type": "code",
   "execution_count": null,
   "metadata": {
    "collapsed": true
   },
   "outputs": [],
   "source": [
    "# define function that uses cvxpy to solve the least-squares problem using a polynomial model\n",
    "\n",
    "def cvxpy_poly_fit(x,y,degree):\n",
    "    # construct data matrix\n",
    "    A = np.vander(x,degree+1)\n",
    "    b = y\n",
    "    p_cvx = Variable(degree+1)\n",
    "    # set up optimization problem\n",
    "    objective = Minimize(sum_squares(A*p_cvx - b))\n",
    "    constraints = []\n",
    "    # solve the problem\n",
    "    prob = Problem(objective,constraints)\n",
    "    prob.solve()\n",
    "    # return the polynomial coefficients\n",
    "    return np.array(p_cvx.value)\n",
    "    "
   ]
  },
  {
   "cell_type": "code",
   "execution_count": null,
   "metadata": {
    "collapsed": true
   },
   "outputs": [],
   "source": [
    "# fit the polynomial models of degrees 1 to 3 using cvxpy\n",
    "c1 = cvxpy_poly_fit(x,y,1)\n",
    "c2 = cvxpy_poly_fit(x,y,2)\n",
    "c3 = cvxpy_poly_fit(x,y,3)\n",
    "\n",
    "p1 = np.poly1d(c1.flatten())\n",
    "p2 = np.poly1d(c2.flatten())\n",
    "p3 = np.poly1d(c3.flatten())"
   ]
  },
  {
   "cell_type": "code",
   "execution_count": null,
   "metadata": {
    "collapsed": true
   },
   "outputs": [],
   "source": [
    "# plot\n",
    "y1 = p1(x)\n",
    "y2 = p2(x)\n",
    "y3 = p3(x)"
   ]
  },
  {
   "cell_type": "code",
   "execution_count": null,
   "metadata": {},
   "outputs": [],
   "source": [
    "# plot linear (p=1) fit\n",
    "plt.figure()\n",
    "plt.plot(x,y,'o')\n",
    "plt.plot(x,y1,label='linear')\n",
    "plt.legend(loc=4,fontsize=10)\n",
    "plt.xlabel('$x$: independent variable')\n",
    "plt.ylabel('$y$: response variable')\n",
    "plt.gcf().subplots_adjust(bottom=0.15,left=0.15)"
   ]
  },
  {
   "cell_type": "code",
   "execution_count": null,
   "metadata": {},
   "outputs": [],
   "source": [
    "# plot quadratic (p=2) fit\n",
    "plt.figure()\n",
    "plt.plot(x,y,'o')\n",
    "plt.plot(x,y1,label='linear')\n",
    "plt.plot(x,y2,label='degree-2')\n",
    "plt.legend(loc=4,fontsize=10)\n",
    "plt.xlabel('$x$: independent variable')\n",
    "plt.ylabel('$y$: response variable')\n",
    "plt.gcf().subplots_adjust(bottom=0.15,left=0.15)"
   ]
  },
  {
   "cell_type": "code",
   "execution_count": null,
   "metadata": {},
   "outputs": [],
   "source": [
    "# plot cubic (p=3) fit\n",
    "plt.figure()\n",
    "plt.plot(x,y,'o')\n",
    "plt.plot(x,y1,label='linear')\n",
    "plt.plot(x,y2,label='degree-2')\n",
    "plt.plot(x,y3,label='degree-3')\n",
    "plt.legend(loc=4,fontsize=10)\n",
    "plt.xlabel('$x$: independent variable')\n",
    "plt.ylabel('$y$: response variable')\n",
    "plt.gcf().subplots_adjust(bottom=0.15,left=0.15)"
   ]
  },
  {
   "cell_type": "code",
   "execution_count": null,
   "metadata": {},
   "outputs": [],
   "source": [
    "# plot all\n",
    "plt.figure()\n",
    "plt.plot(x,y,'o')\n",
    "plt.plot(x,y1,label='linear')\n",
    "plt.plot(x,y2,label='degree-2')\n",
    "plt.plot(x,y3,label='degree-3')\n",
    "plt.plot(x,y_true,label='true')\n",
    "plt.legend(loc=4,fontsize=10)\n",
    "plt.xlabel('$x$: independent variable')\n",
    "plt.ylabel('$y$: response variable')\n",
    "plt.gcf().subplots_adjust(bottom=0.15,left=0.15)"
   ]
  }
 ],
 "metadata": {
  "kernelspec": {
   "display_name": "Python 3",
   "language": "python",
   "name": "python3"
  },
  "language_info": {
   "codemirror_mode": {
    "name": "ipython",
    "version": 3
   },
   "file_extension": ".py",
   "mimetype": "text/x-python",
   "name": "python",
   "nbconvert_exporter": "python",
   "pygments_lexer": "ipython3",
   "version": "3.6.2"
  }
 },
 "nbformat": 4,
 "nbformat_minor": 1
}
