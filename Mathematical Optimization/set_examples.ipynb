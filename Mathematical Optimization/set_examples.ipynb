{
 "cells": [
  {
   "cell_type": "markdown",
   "metadata": {},
   "source": [
    "## Example\n",
    "- find a point in the intersection of two lines\n",
    "\\begin{align*}\n",
    "2x + y = 4\\\\\n",
    "-x + 5y = 0\n",
    "\\end{align*}"
   ]
  },
  {
   "cell_type": "code",
   "execution_count": null,
   "metadata": {},
   "outputs": [],
   "source": [
    "from cvxpy import *\n",
    "\n",
    "x = Variable()\n",
    "y = Variable()\n",
    "\n",
    "obj = Minimize(0)\n",
    "constr = [2*x + y == 4,\n",
    "          -x + 5*y == 0]\n",
    "\n",
    "Problem(obj, constr).solve()\n",
    "\n",
    "print(x.value, y.value)"
   ]
  },
  {
   "cell_type": "markdown",
   "metadata": {},
   "source": [
    "## Diet Problem\n",
    "- a classic problem in optimization is to meet the nutritional requirements\n",
    "of an army via various foods (with different nutritional benefits and prices) under cost constraints\n",
    "- one soldier requires 1, 2.1, and 1.7 units of meat, vegetables, and grain, respectively, per day ($r = (1, 2.1, 1.7)$)\n",
    "- one unit of hamburgers has nutritional value $h = (.8, .4, .5)$ and costs $1\n",
    "- one unit of cheerios has nutritional vlaue $c = (0, .3, 2.0)$ and costs $0.25\n",
    "- prices $p = (1, 0.25)$\n",
    "- you have a budget of $130 to buy hamburgers and cheerios for one day\n",
    "- can you meet the dietary needs of 50 soldiers?\n",
    "\n",
    "## Formulation\n",
    "- write as optimization problem\n",
    "$$\n",
    "\\begin{array}{ll}\n",
    "\\mbox{minimize} & 0 \\\\\n",
    "\\mbox{subject to} & p^T x \\leq 130\\\\\n",
    "&x_1 h + x_2 c \\geq 50 r\\\\\n",
    "&x \\geq 0\n",
    "\\end{array}\n",
    "$$\n",
    "with $x$ giving units of hamburgers and cheerios\n",
    "- or, with $A = [h, c]$,\n",
    "$$\n",
    "\\begin{array}{ll}\n",
    "\\mbox{minimize} & 0 \\\\\n",
    "\\mbox{subject to} & p^T x \\leq 130\\\\\n",
    "&Ax \\geq 50 r\\\\\n",
    "&x \\geq 0\n",
    "\\end{array}\n",
    "$$"
   ]
  },
  {
   "cell_type": "code",
   "execution_count": null,
   "metadata": {
    "collapsed": true
   },
   "outputs": [],
   "source": [
    "from cvxpy import *\n",
    "import numpy as np\n",
    "h = np.array([.8, .4, .5])\n",
    "c = np.array([0, .3, 2.0])\n",
    "r = np.array([1, 2.1, 1.7])\n",
    "p = np.array([1, .25])"
   ]
  },
  {
   "cell_type": "markdown",
   "metadata": {},
   "source": [
    "- solve the feasibility problem"
   ]
  },
  {
   "cell_type": "code",
   "execution_count": null,
   "metadata": {},
   "outputs": [],
   "source": [
    "x = Variable(2) # amounts of hamburgers and cheerios\n",
    "\n",
    "obj = Minimize(0)\n",
    "constr = [x.T*p <= 130,\n",
    "          h*x[0] + c*x[1] >= 50*r,\n",
    "          x >= 0]\n",
    "\n",
    "prob = Problem(obj, constr)\n",
    "# use the SCS solver because the default, ECOS, has a bug with 0 objectives\n",
    "prob.solve(solver='SCS')\n",
    "print(x.value)"
   ]
  },
  {
   "cell_type": "markdown",
   "metadata": {},
   "source": [
    "- solve the minimization problem to find the cheapest acceptable diet"
   ]
  },
  {
   "cell_type": "code",
   "execution_count": null,
   "metadata": {},
   "outputs": [],
   "source": [
    "x = Variable(2) # amounts of hamburgers and cheerios\n",
    "\n",
    "obj = Minimize(x.T*p)\n",
    "constr = [h*x[0] + c*x[1] >= 50*r,\n",
    "          x >= 0]\n",
    "\n",
    "prob = Problem(obj, constr)\n",
    "prob.solve(solver='SCS')\n",
    "print(prob.value)\n",
    "print(x.value)"
   ]
  }
 ],
 "metadata": {
  "kernelspec": {
   "display_name": "Python 3",
   "language": "python",
   "name": "python3"
  },
  "language_info": {
   "codemirror_mode": {
    "name": "ipython",
    "version": 3
   },
   "file_extension": ".py",
   "mimetype": "text/x-python",
   "name": "python",
   "nbconvert_exporter": "python",
   "pygments_lexer": "ipython3",
   "version": "3.6.2"
  }
 },
 "nbformat": 4,
 "nbformat_minor": 1
}
