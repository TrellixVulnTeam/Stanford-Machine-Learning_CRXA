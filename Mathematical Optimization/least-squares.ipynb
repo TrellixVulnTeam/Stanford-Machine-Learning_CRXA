{
 "cells": [
  {
   "cell_type": "markdown",
   "metadata": {},
   "source": [
    "# Linear least-squares regression\n",
    "\n",
    "- This notebook follows course notes `least-squares.pdf`\n",
    "\n",
    "## Linear data\n",
    "\n",
    "- We first consider the case wehre the data were generated from a model comprising the sum of a (deterministic) **linear** function and (stochastic) iid Gaussian noise:\n",
    "$$y_i = f_{\\mathrm{true}}(x_i)+ \\sigma \\cdot \\epsilon_i$$"
   ]
  },
  {
   "cell_type": "code",
   "execution_count": null,
   "metadata": {
    "collapsed": true
   },
   "outputs": [],
   "source": [
    "# set up python\n",
    "import numpy as np\n",
    "import matplotlib.pyplot as plt\n",
    "%matplotlib inline\n",
    "%config InlineBackend.figure_format = 'svg'\n",
    "from cvxpy import *\n",
    "# plot properties\n",
    "# use to create figures for tex\n",
    "plt.rc('text', usetex=True)\n",
    "plt.rc('font', family='serif')\n",
    "font = {'family' : 'normal',\n",
    "        'weight' : 'normal',\n",
    "        'size'   : 16}\n",
    "plt.rc('font', **font)"
   ]
  },
  {
   "cell_type": "code",
   "execution_count": null,
   "metadata": {
    "collapsed": true
   },
   "outputs": [],
   "source": [
    "# generate data\n",
    "np.random.seed(1)\n",
    "m = 0.6\n",
    "b = 0.3\n",
    "sigma = .1\n",
    "x = np.linspace(0,1,10)\n",
    "y = m*x + b + sigma*np.random.standard_normal(x.shape)\n",
    "# compute range for plotting\n",
    "axis_range = [-0.1,1.1,-0.1,1.1]"
   ]
  },
  {
   "cell_type": "code",
   "execution_count": null,
   "metadata": {},
   "outputs": [],
   "source": [
    "# plot figure with true line\n",
    "y_true = m*x + b\n",
    "\n",
    "plt.figure()\n",
    "plt.plot(x,y_true,'r',label='$f_\\mathrm{true}(x)$')\n",
    "plt.plot(x,y,'o',label='$f_\\mathrm{true}(x_i)+ \\sigma\\epsilon_i$')\n",
    "plt.legend(frameon=False)\n",
    "plt.xlabel('$x$: independent variable')\n",
    "plt.ylabel('$y$: response variable')\n",
    "plt.axis(axis_range)\n",
    "plt.gcf().subplots_adjust(bottom=0.15)"
   ]
  },
  {
   "cell_type": "code",
   "execution_count": null,
   "metadata": {
    "scrolled": true
   },
   "outputs": [],
   "source": [
    "# plot figure with true line and residuals\n",
    "\n",
    "y_true = m*x + b\n",
    "\n",
    "plt.figure()\n",
    "plt.plot(x,y_true,'r',label='$f_\\mathrm{true}(x)$')\n",
    "plt.plot(x,y,'o',label='$f_\\mathrm{true}(x_i)+ \\sigma\\epsilon_i$')\n",
    "\n",
    "for i in range(x.size):\n",
    "    if (i==1) : plt.plot([x[i],x[i]],[y[i],y_true[i]],'k--',label='residuals for $f_\\mathrm{true}')\n",
    "    plt.plot([x[i],x[i]],[y[i],y_true[i]],'k--')\n",
    "    \n",
    "plt.xlabel('$x$: independent variable')\n",
    "plt.ylabel('$y$: response variable')\n",
    "plt.axis(axis_range)\n",
    "plt.gcf().subplots_adjust(bottom=0.15)\n",
    "plt.legend(frameon=False)"
   ]
  },
  {
   "cell_type": "code",
   "execution_count": null,
   "metadata": {
    "collapsed": true
   },
   "outputs": [],
   "source": [
    "# create objective-function data to visualize\n",
    "\n",
    "def objective_fun(x,y,x_var_1,x_var_2):\n",
    "    Atmp = np.vander(x,2)\n",
    "    btmp = np.array(y)\n",
    "    unknown_vec = np.array([[x_var_1], [x_var_2]])\n",
    "    d =Atmp.dot(unknown_vec).T-btmp\n",
    "    return np.linalg.norm(d)\n",
    "\n",
    "Mone = np.arange(0, 1, 0.01)\n",
    "Bone = np.arange(0, 1, 0.01)\n",
    "M, B = np.meshgrid(Mone, Bone)\n",
    "Z = np.zeros(M.shape)\n",
    "for mcount in range(0,Mone.size):\n",
    "    for bcount in range(0,Bone.size):\n",
    "        Z[mcount,bcount] = objective_fun(x,y,M[mcount,bcount],B[mcount,bcount])"
   ]
  },
  {
   "cell_type": "code",
   "execution_count": null,
   "metadata": {},
   "outputs": [],
   "source": [
    "# generate surface plot\n",
    "\n",
    "from mpl_toolkits.mplot3d import Axes3D\n",
    "from matplotlib import cm\n",
    "\n",
    "fig = plt.figure()\n",
    "ax = fig.gca(projection='3d')\n",
    "\n",
    "# Plot the surface.\n",
    "surf = ax.plot_surface(M, B, Z, cmap=cm.coolwarm)\n",
    "\n",
    "plt.xlabel('slope variable $m$')\n",
    "plt.ylabel('intercept variable $b$')\n",
    "# Add a color bar which maps values to colors.\n",
    "fig.colorbar(surf)\n",
    "plt.title('least-squares objective function')\n",
    "#plt.savefig('fig/1d-fit-ls3d.pdf')\n",
    "plt.show()\n"
   ]
  },
  {
   "cell_type": "code",
   "execution_count": null,
   "metadata": {},
   "outputs": [],
   "source": [
    "# generate contour plot\n",
    "\n",
    "plt.figure()\n",
    "contour_levels = np.arange(0.3,3,0.1)\n",
    "CS = plt.contour(M, B, Z,levels=contour_levels)\n",
    "plt.clabel(CS, inline=1, fontsize=10)\n",
    "plt.title('contours of least-squares objective function')\n",
    "\n",
    "plt.xlabel('slope variable $m$')\n",
    "plt.ylabel('intercept variable $b$')"
   ]
  },
  {
   "cell_type": "code",
   "execution_count": null,
   "metadata": {},
   "outputs": [],
   "source": [
    "# solve via numpy covariance function\n",
    "\n",
    "A = np.vstack((x,y))\n",
    "V = np.cov(A)\n",
    "m_est = V[0,1] / V[0,0]\n",
    "b_est = (y.sum() - m_est*x.sum()) / len(x)\n",
    "print('m_est = {:.5}'.format(m_est))\n",
    "print('b_est = {:.5}'.format(b_est))"
   ]
  },
  {
   "cell_type": "code",
   "execution_count": null,
   "metadata": {},
   "outputs": [],
   "source": [
    "# plot figure with true and estimated model\n",
    "\n",
    "y_true = m*x + b\n",
    "y_est = m_est*x + b_est\n",
    "\n",
    "print(b)\n",
    "plt.figure()\n",
    "plt.plot(x,y,'o')\n",
    "plt.plot(x,y_true,'r',label='true')\n",
    "plt.plot(x,y_est,'g',label='estimated')\n",
    "\n",
    "for i in range(x.size):\n",
    "    plt.plot([x[i],x[i]],[y[i],y_true[i]],'k--')\n",
    "    \n",
    "plt.xlabel('$x$: independent variable')\n",
    "plt.ylabel('$y$: response variable')\n",
    "plt.legend(loc=4,fontsize=12)\n",
    "plt.legend(frameon=False)\n",
    "plt.axis(axis_range)\n",
    "plt.gcf().subplots_adjust(bottom=0.15)"
   ]
  },
  {
   "cell_type": "code",
   "execution_count": null,
   "metadata": {},
   "outputs": [],
   "source": [
    "# plot figure with true line and residuals\n",
    "\n",
    "y_true = m*x + b\n",
    "y_est = m_est*x + b_est\n",
    "\n",
    "plt.figure()\n",
    "plt.plot(x,y_true,'r',label='$f_\\mathrm{true}(x)$')\n",
    "plt.plot(x,y_est,'g',label='$f(x)$ (estimated)')\n",
    "plt.plot(x,y,'o',label='$f_\\mathrm{true}(x_i)+ \\sigma\\epsilon_i$')\n",
    "\n",
    "for i in range(x.size):\n",
    "    if (i==1) : plt.plot([x[i],x[i]],[y[i],y_true[i]],'k--',label='residuals for $f_\\mathrm{true}')\n",
    "    plt.plot([x[i],x[i]],[y[i],y_true[i]],'k--')\n",
    "    \n",
    "plt.xlabel('$x$: independent variable')\n",
    "plt.ylabel('$y$: response variable')\n",
    "plt.axis(axis_range)\n",
    "plt.gcf().subplots_adjust(bottom=0.15)\n",
    "plt.legend(frameon=False)"
   ]
  },
  {
   "cell_type": "code",
   "execution_count": null,
   "metadata": {},
   "outputs": [],
   "source": [
    "# use cvxpy to solve the problem\n",
    "from cvxpy import *\n",
    "# Construct the problem.\n",
    "m_cvx = Variable()\n",
    "b_cvx = Variable()\n",
    "objective = Minimize(sum_squares(m_cvx*x + b_cvx - y))\n",
    "prob = Problem(objective)\n",
    "\n",
    "# The optimal objective is returned by prob.solve().\n",
    "result = prob.solve()\n",
    "\n",
    "# print the parameters\n",
    "print('m_cvx.value = {:.5}, b_cvx.value = {:.5}'.format(m_cvx.value,b_cvx.value))"
   ]
  },
  {
   "cell_type": "code",
   "execution_count": null,
   "metadata": {},
   "outputs": [],
   "source": [
    "# use cvxpy for linear least squares in matrix form\n",
    "\n",
    "# regenerate data\n",
    "np.random.seed(1)\n",
    "slope = 0.6; intercept = 0.3; sigma = .1; n = 10 # number of data points\n",
    "input_data = np.linspace(0,1,n)\n",
    "response_data = slope*input_data + intercept + sigma*np.random.standard_normal(n)\n",
    "\n",
    "# problem data\n",
    "Avar = np.vstack([input_data,np.ones(n)]).T\n",
    "bvar = response_data\n",
    "\n",
    "# cvx problem\n",
    "xvar = Variable(Avar.shape[1])\n",
    "objective = Minimize(sum_squares(Avar*xvar - bvar))\n",
    "prob = Problem(objective)\n",
    "result = prob.solve()\n",
    "\n",
    "# get value\n",
    "x_star = np.array(xvar.value)\n",
    "\n",
    "print('slope = {:.5}, intercept = {:.5}'.format(x_star[0,0],x_star[1,0]))"
   ]
  },
  {
   "cell_type": "markdown",
   "metadata": {},
   "source": [
    "## Non-linear data\n",
    "\n",
    "- We now consider the case wehre the data were generated from a model comprising the sum of a (deterministic) **nonlinear** function and (stochastic) iid Gaussian noise:\n",
    "$$f_\\mathrm{true}(x) = m_\\mathrm{true}\\exp(x) + b_\\mathrm{true}$$"
   ]
  },
  {
   "cell_type": "code",
   "execution_count": null,
   "metadata": {
    "collapsed": true
   },
   "outputs": [],
   "source": [
    "# generate data for simple exponential model\n",
    "np.random.seed(102)\n",
    "n_exp = 15\n",
    "m_exp = 0.4\n",
    "b_exp = 0.15\n",
    "s_exp = 3\n",
    "x_exp = np.linspace(0,4,n_exp)\n",
    "y_exp = m_exp*np.exp(x_exp) + b_exp + s_exp*np.random.standard_normal(x_exp.shape)\n",
    "exp_range = [x_exp.min()-.1,\n",
    "            x_exp.max()+.1,\n",
    "             y_exp.min()-1,\n",
    "            y_exp.max()+1]"
   ]
  },
  {
   "cell_type": "code",
   "execution_count": null,
   "metadata": {},
   "outputs": [],
   "source": [
    "plt.figure()\n",
    "plt.plot(x_exp,y_exp,'o')\n",
    "plt.xlabel('$x$: independent variable')\n",
    "plt.ylabel('$y$: response variable')\n",
    "plt.axis(exp_range)\n",
    "plt.gcf().subplots_adjust(bottom=0.15)"
   ]
  },
  {
   "cell_type": "code",
   "execution_count": null,
   "metadata": {
    "collapsed": true
   },
   "outputs": [],
   "source": [
    "# define functions that use cvxpy to solve the least-squares problem using both a linear and exponential model\n",
    "\n",
    "def linear_model(x,y):\n",
    "    m = Variable()\n",
    "    b = Variable()\n",
    "    objective = Minimize(sum_squares(m*x + b - y))\n",
    "    prob = Problem(objective)\n",
    "    result = prob.solve()\n",
    "    return (m.value,b.value,result)\n",
    "\n",
    "def exp_model(x,y):\n",
    "    m = Variable()\n",
    "    b = Variable()\n",
    "    objective = Minimize(sum_squares(m*np.exp(x) + b - y))\n",
    "    prob = Problem(objective)\n",
    "    result = prob.solve()\n",
    "    return (m.value,b.value,result)"
   ]
  },
  {
   "cell_type": "code",
   "execution_count": null,
   "metadata": {},
   "outputs": [],
   "source": [
    "# fit the linear and exponential models using cvxpy\n",
    "(m_lin,b_lin,val_lin) = linear_model(x_exp,y_exp)\n",
    "(m_fit,b_fit,val_fit) = exp_model(x_exp,y_exp)\n",
    "\n",
    "# compute model output\n",
    "y_lin = m_lin*x_exp + b_lin\n",
    "y_fit = m_fit*np.exp(x_exp) + b_fit\n",
    "y_true = m_exp*np.exp(x_exp) + b_exp\n",
    "\n",
    "# plot linear\n",
    "plt.figure()\n",
    "plt.plot(x_exp,y_exp,'o')\n",
    "plt.plot(x_exp,y_lin,label='linear fit')\n",
    "plt.xlabel('$x$: independent variable')\n",
    "plt.ylabel('$y$: response variable')\n",
    "plt.legend(loc=2,fontsize=12)\n",
    "plt.axis(exp_range)\n",
    "plt.gcf().subplots_adjust(bottom=0.15)"
   ]
  },
  {
   "cell_type": "code",
   "execution_count": null,
   "metadata": {},
   "outputs": [],
   "source": [
    "print(val_lin)\n",
    "print(val_fit)"
   ]
  },
  {
   "cell_type": "code",
   "execution_count": null,
   "metadata": {},
   "outputs": [],
   "source": [
    "# plot all\n",
    "plt.figure()\n",
    "plt.plot(x_exp,y_exp,'o')\n",
    "plt.plot(x_exp,y_lin,label='linear fit')\n",
    "plt.plot(x_exp,y_fit,label='exponential fit')\n",
    "plt.plot(x_exp,y_true,label='true')\n",
    "plt.xlabel('$x$: independent variable')\n",
    "plt.ylabel('$y$: response variable')\n",
    "plt.legend(loc=2,fontsize=12)\n",
    "plt.axis(exp_range)\n",
    "plt.gcf().subplots_adjust(bottom=0.15)"
   ]
  }
 ],
 "metadata": {
  "kernelspec": {
   "display_name": "Python 3",
   "language": "python",
   "name": "python3"
  },
  "language_info": {
   "codemirror_mode": {
    "name": "ipython",
    "version": 3
   },
   "file_extension": ".py",
   "mimetype": "text/x-python",
   "name": "python",
   "nbconvert_exporter": "python",
   "pygments_lexer": "ipython3",
   "version": "3.6.2"
  }
 },
 "nbformat": 4,
 "nbformat_minor": 1
}
